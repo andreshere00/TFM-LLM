{
  "nbformat": 4,
  "nbformat_minor": 0,
  "metadata": {
    "colab": {
      "provenance": []
    },
    "kernelspec": {
      "name": "python3",
      "display_name": "Python 3"
    },
    "language_info": {
      "name": "python"
    },
    "widgets": {
      "application/vnd.jupyter.widget-state+json": {
        "c8c6559791f6455a8c7cf6219e87066d": {
          "model_module": "@jupyter-widgets/controls",
          "model_name": "HBoxModel",
          "model_module_version": "1.5.0",
          "state": {
            "_dom_classes": [],
            "_model_module": "@jupyter-widgets/controls",
            "_model_module_version": "1.5.0",
            "_model_name": "HBoxModel",
            "_view_count": null,
            "_view_module": "@jupyter-widgets/controls",
            "_view_module_version": "1.5.0",
            "_view_name": "HBoxView",
            "box_style": "",
            "children": [
              "IPY_MODEL_3d54367cb00a49ccb227cd3e40ef735d",
              "IPY_MODEL_58895fe4501640019b058e0131c72ec1",
              "IPY_MODEL_00eca98d31a447149b955654132d759f"
            ],
            "layout": "IPY_MODEL_8710f6a29c55459f8d380d2a153fd242"
          }
        },
        "3d54367cb00a49ccb227cd3e40ef735d": {
          "model_module": "@jupyter-widgets/controls",
          "model_name": "HTMLModel",
          "model_module_version": "1.5.0",
          "state": {
            "_dom_classes": [],
            "_model_module": "@jupyter-widgets/controls",
            "_model_module_version": "1.5.0",
            "_model_name": "HTMLModel",
            "_view_count": null,
            "_view_module": "@jupyter-widgets/controls",
            "_view_module_version": "1.5.0",
            "_view_name": "HTMLView",
            "description": "",
            "description_tooltip": null,
            "layout": "IPY_MODEL_6ba5fdba10e444bdaf0680a4b3f32ca6",
            "placeholder": "​",
            "style": "IPY_MODEL_a3f84ef60a5c4c8fa589115a2e31ca23",
            "value": "Downloading builder script: 100%"
          }
        },
        "58895fe4501640019b058e0131c72ec1": {
          "model_module": "@jupyter-widgets/controls",
          "model_name": "FloatProgressModel",
          "model_module_version": "1.5.0",
          "state": {
            "_dom_classes": [],
            "_model_module": "@jupyter-widgets/controls",
            "_model_module_version": "1.5.0",
            "_model_name": "FloatProgressModel",
            "_view_count": null,
            "_view_module": "@jupyter-widgets/controls",
            "_view_module_version": "1.5.0",
            "_view_name": "ProgressView",
            "bar_style": "success",
            "description": "",
            "description_tooltip": null,
            "layout": "IPY_MODEL_7577c6a9f9fa484e8aed47fd3d624efc",
            "max": 18289,
            "min": 0,
            "orientation": "horizontal",
            "style": "IPY_MODEL_f0e3d01f54e94e5aa6e9c15160ab87f7",
            "value": 18289
          }
        },
        "00eca98d31a447149b955654132d759f": {
          "model_module": "@jupyter-widgets/controls",
          "model_name": "HTMLModel",
          "model_module_version": "1.5.0",
          "state": {
            "_dom_classes": [],
            "_model_module": "@jupyter-widgets/controls",
            "_model_module_version": "1.5.0",
            "_model_name": "HTMLModel",
            "_view_count": null,
            "_view_module": "@jupyter-widgets/controls",
            "_view_module_version": "1.5.0",
            "_view_name": "HTMLView",
            "description": "",
            "description_tooltip": null,
            "layout": "IPY_MODEL_e32fc233d579470d9b5c4ccc8506972c",
            "placeholder": "​",
            "style": "IPY_MODEL_1e053f6826a44a10b4ff4b9202e9e74c",
            "value": " 18.3k/18.3k [00:00&lt;00:00, 594kB/s]"
          }
        },
        "8710f6a29c55459f8d380d2a153fd242": {
          "model_module": "@jupyter-widgets/base",
          "model_name": "LayoutModel",
          "model_module_version": "1.2.0",
          "state": {
            "_model_module": "@jupyter-widgets/base",
            "_model_module_version": "1.2.0",
            "_model_name": "LayoutModel",
            "_view_count": null,
            "_view_module": "@jupyter-widgets/base",
            "_view_module_version": "1.2.0",
            "_view_name": "LayoutView",
            "align_content": null,
            "align_items": null,
            "align_self": null,
            "border": null,
            "bottom": null,
            "display": null,
            "flex": null,
            "flex_flow": null,
            "grid_area": null,
            "grid_auto_columns": null,
            "grid_auto_flow": null,
            "grid_auto_rows": null,
            "grid_column": null,
            "grid_gap": null,
            "grid_row": null,
            "grid_template_areas": null,
            "grid_template_columns": null,
            "grid_template_rows": null,
            "height": null,
            "justify_content": null,
            "justify_items": null,
            "left": null,
            "margin": null,
            "max_height": null,
            "max_width": null,
            "min_height": null,
            "min_width": null,
            "object_fit": null,
            "object_position": null,
            "order": null,
            "overflow": null,
            "overflow_x": null,
            "overflow_y": null,
            "padding": null,
            "right": null,
            "top": null,
            "visibility": null,
            "width": null
          }
        },
        "6ba5fdba10e444bdaf0680a4b3f32ca6": {
          "model_module": "@jupyter-widgets/base",
          "model_name": "LayoutModel",
          "model_module_version": "1.2.0",
          "state": {
            "_model_module": "@jupyter-widgets/base",
            "_model_module_version": "1.2.0",
            "_model_name": "LayoutModel",
            "_view_count": null,
            "_view_module": "@jupyter-widgets/base",
            "_view_module_version": "1.2.0",
            "_view_name": "LayoutView",
            "align_content": null,
            "align_items": null,
            "align_self": null,
            "border": null,
            "bottom": null,
            "display": null,
            "flex": null,
            "flex_flow": null,
            "grid_area": null,
            "grid_auto_columns": null,
            "grid_auto_flow": null,
            "grid_auto_rows": null,
            "grid_column": null,
            "grid_gap": null,
            "grid_row": null,
            "grid_template_areas": null,
            "grid_template_columns": null,
            "grid_template_rows": null,
            "height": null,
            "justify_content": null,
            "justify_items": null,
            "left": null,
            "margin": null,
            "max_height": null,
            "max_width": null,
            "min_height": null,
            "min_width": null,
            "object_fit": null,
            "object_position": null,
            "order": null,
            "overflow": null,
            "overflow_x": null,
            "overflow_y": null,
            "padding": null,
            "right": null,
            "top": null,
            "visibility": null,
            "width": null
          }
        },
        "a3f84ef60a5c4c8fa589115a2e31ca23": {
          "model_module": "@jupyter-widgets/controls",
          "model_name": "DescriptionStyleModel",
          "model_module_version": "1.5.0",
          "state": {
            "_model_module": "@jupyter-widgets/controls",
            "_model_module_version": "1.5.0",
            "_model_name": "DescriptionStyleModel",
            "_view_count": null,
            "_view_module": "@jupyter-widgets/base",
            "_view_module_version": "1.2.0",
            "_view_name": "StyleView",
            "description_width": ""
          }
        },
        "7577c6a9f9fa484e8aed47fd3d624efc": {
          "model_module": "@jupyter-widgets/base",
          "model_name": "LayoutModel",
          "model_module_version": "1.2.0",
          "state": {
            "_model_module": "@jupyter-widgets/base",
            "_model_module_version": "1.2.0",
            "_model_name": "LayoutModel",
            "_view_count": null,
            "_view_module": "@jupyter-widgets/base",
            "_view_module_version": "1.2.0",
            "_view_name": "LayoutView",
            "align_content": null,
            "align_items": null,
            "align_self": null,
            "border": null,
            "bottom": null,
            "display": null,
            "flex": null,
            "flex_flow": null,
            "grid_area": null,
            "grid_auto_columns": null,
            "grid_auto_flow": null,
            "grid_auto_rows": null,
            "grid_column": null,
            "grid_gap": null,
            "grid_row": null,
            "grid_template_areas": null,
            "grid_template_columns": null,
            "grid_template_rows": null,
            "height": null,
            "justify_content": null,
            "justify_items": null,
            "left": null,
            "margin": null,
            "max_height": null,
            "max_width": null,
            "min_height": null,
            "min_width": null,
            "object_fit": null,
            "object_position": null,
            "order": null,
            "overflow": null,
            "overflow_x": null,
            "overflow_y": null,
            "padding": null,
            "right": null,
            "top": null,
            "visibility": null,
            "width": null
          }
        },
        "f0e3d01f54e94e5aa6e9c15160ab87f7": {
          "model_module": "@jupyter-widgets/controls",
          "model_name": "ProgressStyleModel",
          "model_module_version": "1.5.0",
          "state": {
            "_model_module": "@jupyter-widgets/controls",
            "_model_module_version": "1.5.0",
            "_model_name": "ProgressStyleModel",
            "_view_count": null,
            "_view_module": "@jupyter-widgets/base",
            "_view_module_version": "1.2.0",
            "_view_name": "StyleView",
            "bar_color": null,
            "description_width": ""
          }
        },
        "e32fc233d579470d9b5c4ccc8506972c": {
          "model_module": "@jupyter-widgets/base",
          "model_name": "LayoutModel",
          "model_module_version": "1.2.0",
          "state": {
            "_model_module": "@jupyter-widgets/base",
            "_model_module_version": "1.2.0",
            "_model_name": "LayoutModel",
            "_view_count": null,
            "_view_module": "@jupyter-widgets/base",
            "_view_module_version": "1.2.0",
            "_view_name": "LayoutView",
            "align_content": null,
            "align_items": null,
            "align_self": null,
            "border": null,
            "bottom": null,
            "display": null,
            "flex": null,
            "flex_flow": null,
            "grid_area": null,
            "grid_auto_columns": null,
            "grid_auto_flow": null,
            "grid_auto_rows": null,
            "grid_column": null,
            "grid_gap": null,
            "grid_row": null,
            "grid_template_areas": null,
            "grid_template_columns": null,
            "grid_template_rows": null,
            "height": null,
            "justify_content": null,
            "justify_items": null,
            "left": null,
            "margin": null,
            "max_height": null,
            "max_width": null,
            "min_height": null,
            "min_width": null,
            "object_fit": null,
            "object_position": null,
            "order": null,
            "overflow": null,
            "overflow_x": null,
            "overflow_y": null,
            "padding": null,
            "right": null,
            "top": null,
            "visibility": null,
            "width": null
          }
        },
        "1e053f6826a44a10b4ff4b9202e9e74c": {
          "model_module": "@jupyter-widgets/controls",
          "model_name": "DescriptionStyleModel",
          "model_module_version": "1.5.0",
          "state": {
            "_model_module": "@jupyter-widgets/controls",
            "_model_module_version": "1.5.0",
            "_model_name": "DescriptionStyleModel",
            "_view_count": null,
            "_view_module": "@jupyter-widgets/base",
            "_view_module_version": "1.2.0",
            "_view_name": "StyleView",
            "description_width": ""
          }
        },
        "5d97f4d1a03c448ab5f064a95176600d": {
          "model_module": "@jupyter-widgets/controls",
          "model_name": "HBoxModel",
          "model_module_version": "1.5.0",
          "state": {
            "_dom_classes": [],
            "_model_module": "@jupyter-widgets/controls",
            "_model_module_version": "1.5.0",
            "_model_name": "HBoxModel",
            "_view_count": null,
            "_view_module": "@jupyter-widgets/controls",
            "_view_module_version": "1.5.0",
            "_view_name": "HBoxView",
            "box_style": "",
            "children": [
              "IPY_MODEL_e83e4c8bf0a8472c800811dcfad343a4",
              "IPY_MODEL_8bf89c14777c458a99f5a7301260860c",
              "IPY_MODEL_b32f2f89e8814aa4b51b78f5279f95a3"
            ],
            "layout": "IPY_MODEL_b95ff25ca69949f4b62cb89fb0e444cf"
          }
        },
        "e83e4c8bf0a8472c800811dcfad343a4": {
          "model_module": "@jupyter-widgets/controls",
          "model_name": "HTMLModel",
          "model_module_version": "1.5.0",
          "state": {
            "_dom_classes": [],
            "_model_module": "@jupyter-widgets/controls",
            "_model_module_version": "1.5.0",
            "_model_name": "HTMLModel",
            "_view_count": null,
            "_view_module": "@jupyter-widgets/controls",
            "_view_module_version": "1.5.0",
            "_view_name": "HTMLView",
            "description": "",
            "description_tooltip": null,
            "layout": "IPY_MODEL_6e09a38da548412e992f5b006bccc0b8",
            "placeholder": "​",
            "style": "IPY_MODEL_7019c2bfd67a43c0babe83582ddc5941",
            "value": "Downloading readme: 100%"
          }
        },
        "8bf89c14777c458a99f5a7301260860c": {
          "model_module": "@jupyter-widgets/controls",
          "model_name": "FloatProgressModel",
          "model_module_version": "1.5.0",
          "state": {
            "_dom_classes": [],
            "_model_module": "@jupyter-widgets/controls",
            "_model_module_version": "1.5.0",
            "_model_name": "FloatProgressModel",
            "_view_count": null,
            "_view_module": "@jupyter-widgets/controls",
            "_view_module_version": "1.5.0",
            "_view_name": "ProgressView",
            "bar_style": "success",
            "description": "",
            "description_tooltip": null,
            "layout": "IPY_MODEL_abb47a18b4c54a879b79364cdc4e9543",
            "max": 6629,
            "min": 0,
            "orientation": "horizontal",
            "style": "IPY_MODEL_8dcb03f2428c4d37b5d3b83233345a2c",
            "value": 6629
          }
        },
        "b32f2f89e8814aa4b51b78f5279f95a3": {
          "model_module": "@jupyter-widgets/controls",
          "model_name": "HTMLModel",
          "model_module_version": "1.5.0",
          "state": {
            "_dom_classes": [],
            "_model_module": "@jupyter-widgets/controls",
            "_model_module_version": "1.5.0",
            "_model_name": "HTMLModel",
            "_view_count": null,
            "_view_module": "@jupyter-widgets/controls",
            "_view_module_version": "1.5.0",
            "_view_name": "HTMLView",
            "description": "",
            "description_tooltip": null,
            "layout": "IPY_MODEL_af85be7b5e7f478abf0120de71afa07a",
            "placeholder": "​",
            "style": "IPY_MODEL_1f0e94b610ab48709260fcb9b8396bac",
            "value": " 6.63k/6.63k [00:00&lt;00:00, 107kB/s]"
          }
        },
        "b95ff25ca69949f4b62cb89fb0e444cf": {
          "model_module": "@jupyter-widgets/base",
          "model_name": "LayoutModel",
          "model_module_version": "1.2.0",
          "state": {
            "_model_module": "@jupyter-widgets/base",
            "_model_module_version": "1.2.0",
            "_model_name": "LayoutModel",
            "_view_count": null,
            "_view_module": "@jupyter-widgets/base",
            "_view_module_version": "1.2.0",
            "_view_name": "LayoutView",
            "align_content": null,
            "align_items": null,
            "align_self": null,
            "border": null,
            "bottom": null,
            "display": null,
            "flex": null,
            "flex_flow": null,
            "grid_area": null,
            "grid_auto_columns": null,
            "grid_auto_flow": null,
            "grid_auto_rows": null,
            "grid_column": null,
            "grid_gap": null,
            "grid_row": null,
            "grid_template_areas": null,
            "grid_template_columns": null,
            "grid_template_rows": null,
            "height": null,
            "justify_content": null,
            "justify_items": null,
            "left": null,
            "margin": null,
            "max_height": null,
            "max_width": null,
            "min_height": null,
            "min_width": null,
            "object_fit": null,
            "object_position": null,
            "order": null,
            "overflow": null,
            "overflow_x": null,
            "overflow_y": null,
            "padding": null,
            "right": null,
            "top": null,
            "visibility": null,
            "width": null
          }
        },
        "6e09a38da548412e992f5b006bccc0b8": {
          "model_module": "@jupyter-widgets/base",
          "model_name": "LayoutModel",
          "model_module_version": "1.2.0",
          "state": {
            "_model_module": "@jupyter-widgets/base",
            "_model_module_version": "1.2.0",
            "_model_name": "LayoutModel",
            "_view_count": null,
            "_view_module": "@jupyter-widgets/base",
            "_view_module_version": "1.2.0",
            "_view_name": "LayoutView",
            "align_content": null,
            "align_items": null,
            "align_self": null,
            "border": null,
            "bottom": null,
            "display": null,
            "flex": null,
            "flex_flow": null,
            "grid_area": null,
            "grid_auto_columns": null,
            "grid_auto_flow": null,
            "grid_auto_rows": null,
            "grid_column": null,
            "grid_gap": null,
            "grid_row": null,
            "grid_template_areas": null,
            "grid_template_columns": null,
            "grid_template_rows": null,
            "height": null,
            "justify_content": null,
            "justify_items": null,
            "left": null,
            "margin": null,
            "max_height": null,
            "max_width": null,
            "min_height": null,
            "min_width": null,
            "object_fit": null,
            "object_position": null,
            "order": null,
            "overflow": null,
            "overflow_x": null,
            "overflow_y": null,
            "padding": null,
            "right": null,
            "top": null,
            "visibility": null,
            "width": null
          }
        },
        "7019c2bfd67a43c0babe83582ddc5941": {
          "model_module": "@jupyter-widgets/controls",
          "model_name": "DescriptionStyleModel",
          "model_module_version": "1.5.0",
          "state": {
            "_model_module": "@jupyter-widgets/controls",
            "_model_module_version": "1.5.0",
            "_model_name": "DescriptionStyleModel",
            "_view_count": null,
            "_view_module": "@jupyter-widgets/base",
            "_view_module_version": "1.2.0",
            "_view_name": "StyleView",
            "description_width": ""
          }
        },
        "abb47a18b4c54a879b79364cdc4e9543": {
          "model_module": "@jupyter-widgets/base",
          "model_name": "LayoutModel",
          "model_module_version": "1.2.0",
          "state": {
            "_model_module": "@jupyter-widgets/base",
            "_model_module_version": "1.2.0",
            "_model_name": "LayoutModel",
            "_view_count": null,
            "_view_module": "@jupyter-widgets/base",
            "_view_module_version": "1.2.0",
            "_view_name": "LayoutView",
            "align_content": null,
            "align_items": null,
            "align_self": null,
            "border": null,
            "bottom": null,
            "display": null,
            "flex": null,
            "flex_flow": null,
            "grid_area": null,
            "grid_auto_columns": null,
            "grid_auto_flow": null,
            "grid_auto_rows": null,
            "grid_column": null,
            "grid_gap": null,
            "grid_row": null,
            "grid_template_areas": null,
            "grid_template_columns": null,
            "grid_template_rows": null,
            "height": null,
            "justify_content": null,
            "justify_items": null,
            "left": null,
            "margin": null,
            "max_height": null,
            "max_width": null,
            "min_height": null,
            "min_width": null,
            "object_fit": null,
            "object_position": null,
            "order": null,
            "overflow": null,
            "overflow_x": null,
            "overflow_y": null,
            "padding": null,
            "right": null,
            "top": null,
            "visibility": null,
            "width": null
          }
        },
        "8dcb03f2428c4d37b5d3b83233345a2c": {
          "model_module": "@jupyter-widgets/controls",
          "model_name": "ProgressStyleModel",
          "model_module_version": "1.5.0",
          "state": {
            "_model_module": "@jupyter-widgets/controls",
            "_model_module_version": "1.5.0",
            "_model_name": "ProgressStyleModel",
            "_view_count": null,
            "_view_module": "@jupyter-widgets/base",
            "_view_module_version": "1.2.0",
            "_view_name": "StyleView",
            "bar_color": null,
            "description_width": ""
          }
        },
        "af85be7b5e7f478abf0120de71afa07a": {
          "model_module": "@jupyter-widgets/base",
          "model_name": "LayoutModel",
          "model_module_version": "1.2.0",
          "state": {
            "_model_module": "@jupyter-widgets/base",
            "_model_module_version": "1.2.0",
            "_model_name": "LayoutModel",
            "_view_count": null,
            "_view_module": "@jupyter-widgets/base",
            "_view_module_version": "1.2.0",
            "_view_name": "LayoutView",
            "align_content": null,
            "align_items": null,
            "align_self": null,
            "border": null,
            "bottom": null,
            "display": null,
            "flex": null,
            "flex_flow": null,
            "grid_area": null,
            "grid_auto_columns": null,
            "grid_auto_flow": null,
            "grid_auto_rows": null,
            "grid_column": null,
            "grid_gap": null,
            "grid_row": null,
            "grid_template_areas": null,
            "grid_template_columns": null,
            "grid_template_rows": null,
            "height": null,
            "justify_content": null,
            "justify_items": null,
            "left": null,
            "margin": null,
            "max_height": null,
            "max_width": null,
            "min_height": null,
            "min_width": null,
            "object_fit": null,
            "object_position": null,
            "order": null,
            "overflow": null,
            "overflow_x": null,
            "overflow_y": null,
            "padding": null,
            "right": null,
            "top": null,
            "visibility": null,
            "width": null
          }
        },
        "1f0e94b610ab48709260fcb9b8396bac": {
          "model_module": "@jupyter-widgets/controls",
          "model_name": "DescriptionStyleModel",
          "model_module_version": "1.5.0",
          "state": {
            "_model_module": "@jupyter-widgets/controls",
            "_model_module_version": "1.5.0",
            "_model_name": "DescriptionStyleModel",
            "_view_count": null,
            "_view_module": "@jupyter-widgets/base",
            "_view_module_version": "1.2.0",
            "_view_name": "StyleView",
            "description_width": ""
          }
        }
      }
    }
  },
  "cells": [
    {
      "cell_type": "markdown",
      "source": [
        "# **Fine-Tuning of a LLM using LLaMa 2 and QLoRA**\n",
        "\n",
        "![teci.jpg](data:image/jpeg;base64,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)\n",
        "\n",
        "Andrés Herencia López-Menchero\n",
        "\n",
        "- My Linkedin: https://www.linkedin.com/in/andres-herencia/"
      ],
      "metadata": {
        "id": "nRg0ohywIUkR"
      }
    },
    {
      "cell_type": "markdown",
      "source": [
        "**Objective:** we want to make text summarization for the conversations between an AI agent and a human for a support call center (this is, the technical service of Apple)."
      ],
      "metadata": {
        "id": "BgdRxBPfTrhL"
      }
    },
    {
      "cell_type": "markdown",
      "source": [
        "## Setup configuration"
      ],
      "metadata": {
        "id": "C1gvejNsRuyi"
      }
    },
    {
      "cell_type": "code",
      "source": [
        "!pip install -qqq torch==2.1.0 --progress-bar off\n",
        "!pip install -qqq transformers==4.32.1 --progress-bar off\n",
        "!pip install -qqq datasets==2.14.4 --progress-bar off\n",
        "!pip install -qqq peft==0.5.0 --progress-bar off\n",
        "!pip install -qqq bitsandbytes==0.41.1 --progress-bar off\n",
        "!pip install -qqq trl==0.7.1 --progress-bar off"
      ],
      "metadata": {
        "colab": {
          "base_uri": "https://localhost:8080/"
        },
        "id": "KSSFVyxsPGKS",
        "outputId": "e5de042c-d5aa-4692-bb8a-cefc171e364b"
      },
      "execution_count": 2,
      "outputs": [
        {
          "output_type": "stream",
          "name": "stdout",
          "text": [
            "\u001b[33mWARNING: Ignoring invalid distribution -orch (/usr/local/lib/python3.10/dist-packages)\u001b[0m\u001b[33m\n",
            "\u001b[0m\u001b[33mWARNING: Ignoring invalid distribution -orch (/usr/local/lib/python3.10/dist-packages)\u001b[0m\u001b[33m\n",
            "\u001b[0m\u001b[33mWARNING: Running pip as the 'root' user can result in broken permissions and conflicting behaviour with the system package manager. It is recommended to use a virtual environment instead: https://pip.pypa.io/warnings/venv\u001b[0m\u001b[33m\n",
            "\u001b[0m\u001b[33mWARNING: Ignoring invalid distribution -orch (/usr/local/lib/python3.10/dist-packages)\u001b[0m\u001b[33m\n",
            "\u001b[0m\u001b[33mWARNING: Ignoring invalid distribution -orch (/usr/local/lib/python3.10/dist-packages)\u001b[0m\u001b[33m\n",
            "\u001b[0m\u001b[33mWARNING: Running pip as the 'root' user can result in broken permissions and conflicting behaviour with the system package manager. It is recommended to use a virtual environment instead: https://pip.pypa.io/warnings/venv\u001b[0m\u001b[33m\n",
            "\u001b[0m\u001b[33mWARNING: Ignoring invalid distribution -orch (/usr/local/lib/python3.10/dist-packages)\u001b[0m\u001b[33m\n",
            "\u001b[0m\u001b[33mWARNING: Ignoring invalid distribution -orch (/usr/local/lib/python3.10/dist-packages)\u001b[0m\u001b[33m\n",
            "\u001b[0m\u001b[33mWARNING: Running pip as the 'root' user can result in broken permissions and conflicting behaviour with the system package manager. It is recommended to use a virtual environment instead: https://pip.pypa.io/warnings/venv\u001b[0m\u001b[33m\n",
            "\u001b[0m\u001b[33mWARNING: Ignoring invalid distribution -orch (/usr/local/lib/python3.10/dist-packages)\u001b[0m\u001b[33m\n",
            "\u001b[0m\u001b[33mWARNING: Ignoring invalid distribution -orch (/usr/local/lib/python3.10/dist-packages)\u001b[0m\u001b[33m\n",
            "\u001b[0m\u001b[33mWARNING: Running pip as the 'root' user can result in broken permissions and conflicting behaviour with the system package manager. It is recommended to use a virtual environment instead: https://pip.pypa.io/warnings/venv\u001b[0m\u001b[33m\n",
            "\u001b[0m\u001b[33mWARNING: Ignoring invalid distribution -orch (/usr/local/lib/python3.10/dist-packages)\u001b[0m\u001b[33m\n",
            "\u001b[0m\u001b[33mWARNING: Ignoring invalid distribution -orch (/usr/local/lib/python3.10/dist-packages)\u001b[0m\u001b[33m\n",
            "\u001b[0m\u001b[33mWARNING: Running pip as the 'root' user can result in broken permissions and conflicting behaviour with the system package manager. It is recommended to use a virtual environment instead: https://pip.pypa.io/warnings/venv\u001b[0m\u001b[33m\n",
            "\u001b[0m\u001b[33mWARNING: Ignoring invalid distribution -orch (/usr/local/lib/python3.10/dist-packages)\u001b[0m\u001b[33m\n",
            "\u001b[0m\u001b[33mWARNING: Ignoring invalid distribution -orch (/usr/local/lib/python3.10/dist-packages)\u001b[0m\u001b[33m\n",
            "\u001b[0m\u001b[33mWARNING: Running pip as the 'root' user can result in broken permissions and conflicting behaviour with the system package manager. It is recommended to use a virtual environment instead: https://pip.pypa.io/warnings/venv\u001b[0m\u001b[33m\n",
            "\u001b[0m"
          ]
        }
      ]
    },
    {
      "cell_type": "code",
      "source": [
        "import json\n",
        "import re\n",
        "from pprint import pprint\n",
        "\n",
        "import pandas as pd\n",
        "import torch\n",
        "from datasets import Dataset, load_dataset\n",
        "from huggingface_hub import notebook_login\n",
        "from peft import LoraConfig, PeftModel\n",
        "from transformers import (\n",
        "    AutoModelForCausalLM,\n",
        "    AutoTokenizer,\n",
        "    BitsAndBytesConfig,\n",
        "    TrainingArguments,\n",
        ")\n",
        "from trl import SFTTrainer\n",
        "\n",
        "DEVICE = \"cuda:0\" if torch.cuda.is_available() else \"cpu\"\n",
        "MODEL_NAME = \"meta-llama/Llama-2-7b-hf\"\n"
      ],
      "metadata": {
        "id": "IFUTe5rGQRtK"
      },
      "execution_count": 3,
      "outputs": []
    },
    {
      "cell_type": "markdown",
      "source": [
        "## Data"
      ],
      "metadata": {
        "id": "hYmGSQIASd8i"
      }
    },
    {
      "cell_type": "code",
      "source": [
        "dataset = load_dataset('Salesforce/dialogstudio', 'TweetSumm')\n",
        "dataset"
      ],
      "metadata": {
        "colab": {
          "base_uri": "https://localhost:8080/",
          "height": 324,
          "referenced_widgets": [
            "c8c6559791f6455a8c7cf6219e87066d",
            "3d54367cb00a49ccb227cd3e40ef735d",
            "58895fe4501640019b058e0131c72ec1",
            "00eca98d31a447149b955654132d759f",
            "8710f6a29c55459f8d380d2a153fd242",
            "6ba5fdba10e444bdaf0680a4b3f32ca6",
            "a3f84ef60a5c4c8fa589115a2e31ca23",
            "7577c6a9f9fa484e8aed47fd3d624efc",
            "f0e3d01f54e94e5aa6e9c15160ab87f7",
            "e32fc233d579470d9b5c4ccc8506972c",
            "1e053f6826a44a10b4ff4b9202e9e74c",
            "5d97f4d1a03c448ab5f064a95176600d",
            "e83e4c8bf0a8472c800811dcfad343a4",
            "8bf89c14777c458a99f5a7301260860c",
            "b32f2f89e8814aa4b51b78f5279f95a3",
            "b95ff25ca69949f4b62cb89fb0e444cf",
            "6e09a38da548412e992f5b006bccc0b8",
            "7019c2bfd67a43c0babe83582ddc5941",
            "abb47a18b4c54a879b79364cdc4e9543",
            "8dcb03f2428c4d37b5d3b83233345a2c",
            "af85be7b5e7f478abf0120de71afa07a",
            "1f0e94b610ab48709260fcb9b8396bac"
          ]
        },
        "id": "alE2iQtOSfLh",
        "outputId": "d91894d4-1574-4a19-dd4b-797b281a81e9"
      },
      "execution_count": 4,
      "outputs": [
        {
          "output_type": "display_data",
          "data": {
            "text/plain": [
              "Downloading builder script:   0%|          | 0.00/18.3k [00:00<?, ?B/s]"
            ],
            "application/vnd.jupyter.widget-view+json": {
              "version_major": 2,
              "version_minor": 0,
              "model_id": "c8c6559791f6455a8c7cf6219e87066d"
            }
          },
          "metadata": {}
        },
        {
          "output_type": "display_data",
          "data": {
            "text/plain": [
              "Downloading readme:   0%|          | 0.00/6.63k [00:00<?, ?B/s]"
            ],
            "application/vnd.jupyter.widget-view+json": {
              "version_major": 2,
              "version_minor": 0,
              "model_id": "5d97f4d1a03c448ab5f064a95176600d"
            }
          },
          "metadata": {}
        },
        {
          "output_type": "execute_result",
          "data": {
            "text/plain": [
              "DatasetDict({\n",
              "    train: Dataset({\n",
              "        features: ['original dialog id', 'new dialog id', 'dialog index', 'original dialog info', 'log', 'prompt'],\n",
              "        num_rows: 879\n",
              "    })\n",
              "    validation: Dataset({\n",
              "        features: ['original dialog id', 'new dialog id', 'dialog index', 'original dialog info', 'log', 'prompt'],\n",
              "        num_rows: 110\n",
              "    })\n",
              "    test: Dataset({\n",
              "        features: ['original dialog id', 'new dialog id', 'dialog index', 'original dialog info', 'log', 'prompt'],\n",
              "        num_rows: 110\n",
              "    })\n",
              "})"
            ]
          },
          "metadata": {},
          "execution_count": 4
        }
      ]
    },
    {
      "cell_type": "markdown",
      "source": [
        "## Preparing the model"
      ],
      "metadata": {
        "id": "zpfwgX6oTknE"
      }
    },
    {
      "cell_type": "markdown",
      "source": [
        "### Generating training prompt"
      ],
      "metadata": {
        "id": "TpYRz3O3TmuZ"
      }
    },
    {
      "cell_type": "code",
      "source": [
        "DEFAULT_SYSTEM_PROMPT = \"\"\"\n",
        "Below is a conversation between a human and an AI agent. Write a summary of the conversation\n",
        "\"\"\".strip()\n",
        "\n",
        "def generate_training_prompt(conversation: str,\n",
        "                            summary: str,\n",
        "                            system_prompt: str = DEFAULT_SYSTEM_PROMPT):\n",
        "\n",
        "    return f\"\"\" ### Instruction: {system_prompt}\n",
        "\n",
        "    ### Input:\n",
        "    {conversation.strip()}\n",
        "\n",
        "    ### Response\n",
        "    {summary}\n",
        "    \"\"\".strip()"
      ],
      "metadata": {
        "id": "DVq-hmu0SqWo"
      },
      "execution_count": 5,
      "outputs": []
    },
    {
      "cell_type": "markdown",
      "source": [
        "### Cleaning text and creating conversation text"
      ],
      "metadata": {
        "id": "ChYSB5c2Ug5x"
      }
    },
    {
      "cell_type": "code",
      "source": [
        "def clean_text(text):\n",
        "    text = re.sub(r\"http\\S+\", \"\", text)\n",
        "    text = re.sub(r\"@[^\\s]+\", \"\", text)\n",
        "    text = re.sub(r\"\\s+\", \" \", text)\n",
        "    return re.sub(r\"\\^[^ ]+\", \"\", text)\n",
        "\n",
        "def create_conversation_text(data_point):\n",
        "    text = \"\"\n",
        "    for item in data_point[\"log\"]:\n",
        "        user = clean_text(item[\"user utterance\"])\n",
        "        text += f\"user: {user.strip()}\\n\"\n",
        "\n",
        "        agent = clean_text(item['system response'])\n",
        "        text += f\"agent: {agent.strip()}\\n\"\n",
        "\n",
        "    return text"
      ],
      "metadata": {
        "id": "HENSGw4UUkbN"
      },
      "execution_count": 6,
      "outputs": []
    },
    {
      "cell_type": "markdown",
      "source": [
        "### Generating text"
      ],
      "metadata": {
        "id": "DQ4TT5fzWbrZ"
      }
    },
    {
      "cell_type": "code",
      "source": [
        "def generate_text(data_point):\n",
        "    summaries = json.loads(data_point[\"original dialog info\"])['summaries']['abstractive_summaries']\n",
        "    summary = summaries[0]\n",
        "    summary = \" \".join(summary)\n",
        "\n",
        "    conversation_text = create_conversation_text(data_point)\n",
        "    return {\n",
        "        'conversation': conversation_text,\n",
        "        'summary': summary,\n",
        "        'text': generate_training_prompt(conversation_text, summary)\n",
        "    }"
      ],
      "metadata": {
        "id": "23xOLHAjV2nC"
      },
      "execution_count": 9,
      "outputs": []
    },
    {
      "cell_type": "markdown",
      "source": [
        "### Example of use"
      ],
      "metadata": {
        "id": "nWq567xjWZ6a"
      }
    },
    {
      "cell_type": "code",
      "source": [
        "example = generate_text(dataset['train'][0])"
      ],
      "metadata": {
        "colab": {
          "base_uri": "https://localhost:8080/",
          "height": 53
        },
        "id": "tqayT8Y6WZdR",
        "outputId": "46f2c58a-48c2-4057-cf06-4c469b97f013"
      },
      "execution_count": 12,
      "outputs": [
        {
          "output_type": "execute_result",
          "data": {
            "text/plain": [
              "'Customer enquired about his Iphone and Apple watch which is not showing his any steps/activity and health activities. Agent is asking to move to DM and look into it.'"
            ],
            "application/vnd.google.colaboratory.intrinsic+json": {
              "type": "string"
            }
          },
          "metadata": {},
          "execution_count": 12
        }
      ]
    },
    {
      "cell_type": "markdown",
      "source": [
        "Prompt and context:"
      ],
      "metadata": {
        "id": "5O4fD4VJWujc"
      }
    },
    {
      "cell_type": "code",
      "source": [
        "example"
      ],
      "metadata": {
        "colab": {
          "base_uri": "https://localhost:8080/"
        },
        "id": "hgZxuCz8WuHS",
        "outputId": "039d7f3a-c638-4a13-9423-cda9d0b2602a"
      },
      "execution_count": 13,
      "outputs": [
        {
          "output_type": "execute_result",
          "data": {
            "text/plain": [
              "{'conversation': 'user: So neither my iPhone nor my Apple Watch are recording my steps/activity, and Health doesn’t recognise either source anymore for some reason. Any ideas? please read the above.\\nagent: Let’s investigate this together. To start, can you tell us the software versions your iPhone and Apple Watch are running currently?\\nuser: My iPhone is on 11.1.2, and my watch is on 4.1.\\nagent: Thank you. Have you tried restarting both devices since this started happening?\\nuser: I’ve restarted both, also un-paired then re-paired the watch.\\nagent: Got it. When did you first notice that the two devices were not talking to each other. Do the two devices communicate through other apps such as Messages?\\nuser: Yes, everything seems fine, it’s just Health and activity.\\nagent: Let’s move to DM and look into this a bit more. When reaching out in DM, let us know when this first started happening please. For example, did it start after an update or after installing a certain app?\\n',\n",
              " 'summary': 'Customer enquired about his Iphone and Apple watch which is not showing his any steps/activity and health activities. Agent is asking to move to DM and look into it.',\n",
              " 'text': '### Instruction: Below is a conversation between a human and an AI agent. Write a summary of the conversation\\n\\n    ### Input:\\n    user: So neither my iPhone nor my Apple Watch are recording my steps/activity, and Health doesn’t recognise either source anymore for some reason. Any ideas? please read the above.\\nagent: Let’s investigate this together. To start, can you tell us the software versions your iPhone and Apple Watch are running currently?\\nuser: My iPhone is on 11.1.2, and my watch is on 4.1.\\nagent: Thank you. Have you tried restarting both devices since this started happening?\\nuser: I’ve restarted both, also un-paired then re-paired the watch.\\nagent: Got it. When did you first notice that the two devices were not talking to each other. Do the two devices communicate through other apps such as Messages?\\nuser: Yes, everything seems fine, it’s just Health and activity.\\nagent: Let’s move to DM and look into this a bit more. When reaching out in DM, let us know when this first started happening please. For example, did it start after an update or after installing a certain app?\\n\\n    ### Response\\n    Customer enquired about his Iphone and Apple watch which is not showing his any steps/activity and health activities. Agent is asking to move to DM and look into it.'}"
            ]
          },
          "metadata": {},
          "execution_count": 13
        }
      ]
    },
    {
      "cell_type": "markdown",
      "source": [
        "Summary"
      ],
      "metadata": {
        "id": "StdtCKXEWxUE"
      }
    },
    {
      "cell_type": "code",
      "source": [
        "print(example['summary'])"
      ],
      "metadata": {
        "colab": {
          "base_uri": "https://localhost:8080/"
        },
        "id": "SO1p40whWw8a",
        "outputId": "5d6ea5a3-9d08-4585-839e-b38eba92aee9"
      },
      "execution_count": 17,
      "outputs": [
        {
          "output_type": "stream",
          "name": "stdout",
          "text": [
            "Customer enquired about his Iphone and Apple watch which is not showing his any steps/activity and health activities. Agent is asking to move to DM and look into it.\n"
          ]
        }
      ]
    },
    {
      "cell_type": "markdown",
      "source": [
        "Conversation"
      ],
      "metadata": {
        "id": "ehJNy7nfW0J5"
      }
    },
    {
      "cell_type": "code",
      "source": [
        "print(example['conversation'])"
      ],
      "metadata": {
        "colab": {
          "base_uri": "https://localhost:8080/"
        },
        "id": "R6UGn-kPW1Oy",
        "outputId": "f75ceb57-3151-4664-df68-b519f0d6bb66"
      },
      "execution_count": 18,
      "outputs": [
        {
          "output_type": "stream",
          "name": "stdout",
          "text": [
            "user: So neither my iPhone nor my Apple Watch are recording my steps/activity, and Health doesn’t recognise either source anymore for some reason. Any ideas? please read the above.\n",
            "agent: Let’s investigate this together. To start, can you tell us the software versions your iPhone and Apple Watch are running currently?\n",
            "user: My iPhone is on 11.1.2, and my watch is on 4.1.\n",
            "agent: Thank you. Have you tried restarting both devices since this started happening?\n",
            "user: I’ve restarted both, also un-paired then re-paired the watch.\n",
            "agent: Got it. When did you first notice that the two devices were not talking to each other. Do the two devices communicate through other apps such as Messages?\n",
            "user: Yes, everything seems fine, it’s just Health and activity.\n",
            "agent: Let’s move to DM and look into this a bit more. When reaching out in DM, let us know when this first started happening please. For example, did it start after an update or after installing a certain app?\n",
            "\n"
          ]
        }
      ]
    },
    {
      "cell_type": "code",
      "source": [
        "print(example['text'])"
      ],
      "metadata": {
        "colab": {
          "base_uri": "https://localhost:8080/"
        },
        "id": "lgNrupVWXRRq",
        "outputId": "2bc2e42a-17f8-4500-b5ec-6db01e47b5b6"
      },
      "execution_count": 19,
      "outputs": [
        {
          "output_type": "stream",
          "name": "stdout",
          "text": [
            "### Instruction: Below is a conversation between a human and an AI agent. Write a summary of the conversation\n",
            "\n",
            "    ### Input:\n",
            "    user: So neither my iPhone nor my Apple Watch are recording my steps/activity, and Health doesn’t recognise either source anymore for some reason. Any ideas? please read the above.\n",
            "agent: Let’s investigate this together. To start, can you tell us the software versions your iPhone and Apple Watch are running currently?\n",
            "user: My iPhone is on 11.1.2, and my watch is on 4.1.\n",
            "agent: Thank you. Have you tried restarting both devices since this started happening?\n",
            "user: I’ve restarted both, also un-paired then re-paired the watch.\n",
            "agent: Got it. When did you first notice that the two devices were not talking to each other. Do the two devices communicate through other apps such as Messages?\n",
            "user: Yes, everything seems fine, it’s just Health and activity.\n",
            "agent: Let’s move to DM and look into this a bit more. When reaching out in DM, let us know when this first started happening please. For example, did it start after an update or after installing a certain app?\n",
            "\n",
            "    ### Response\n",
            "    Customer enquired about his Iphone and Apple watch which is not showing his any steps/activity and health activities. Agent is asking to move to DM and look into it.\n"
          ]
        }
      ]
    },
    {
      "cell_type": "markdown",
      "source": [
        "## Processing dataset"
      ],
      "metadata": {
        "id": "gVr2nBGlW0Bj"
      }
    },
    {
      "cell_type": "code",
      "source": [
        "def process_dataset(data: Dataset):\n",
        "    return (\n",
        "        data.shuffle(seed=42).map(generate_text).remove_columns(\n",
        "            [\"original dialog id\", \"new dialog id\", \"dialog index\",\n",
        "            \"original dialog info\", \"log\", \"prompt\"]\n",
        "        )\n",
        "    )"
      ],
      "metadata": {
        "id": "TzA5bliBXN8j"
      },
      "execution_count": 20,
      "outputs": []
    },
    {
      "cell_type": "code",
      "source": [
        "dataset['train'] = process_dataset(dataset['train'])\n",
        "dataset['validation'] = process_dataset(dataset['validation'])\n",
        "dataset['test'] = process_dataset(dataset['test'])"
      ],
      "metadata": {
        "id": "fpiGGWDRX-7M"
      },
      "execution_count": 21,
      "outputs": []
    },
    {
      "cell_type": "code",
      "source": [
        "dataset"
      ],
      "metadata": {
        "colab": {
          "base_uri": "https://localhost:8080/"
        },
        "id": "KBE_bJ9zYRp0",
        "outputId": "f65f7790-e771-408e-cf22-0ac5c57d17d1"
      },
      "execution_count": 22,
      "outputs": [
        {
          "output_type": "execute_result",
          "data": {
            "text/plain": [
              "DatasetDict({\n",
              "    train: Dataset({\n",
              "        features: ['conversation', 'summary', 'text'],\n",
              "        num_rows: 879\n",
              "    })\n",
              "    validation: Dataset({\n",
              "        features: ['conversation', 'summary', 'text'],\n",
              "        num_rows: 110\n",
              "    })\n",
              "    test: Dataset({\n",
              "        features: ['conversation', 'summary', 'text'],\n",
              "        num_rows: 110\n",
              "    })\n",
              "})"
            ]
          },
          "metadata": {},
          "execution_count": 22
        }
      ]
    },
    {
      "cell_type": "markdown",
      "source": [
        "### Creating model and tokenizer"
      ],
      "metadata": {
        "id": "JeKDhaToYg7a"
      }
    }
  ]
}